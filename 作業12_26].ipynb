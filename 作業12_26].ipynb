{
  "nbformat": 4,
  "nbformat_minor": 0,
  "metadata": {
    "colab": {
      "name": "作業12/26]",
      "provenance": [],
      "include_colab_link": true
    },
    "kernelspec": {
      "name": "python3",
      "display_name": "Python 3"
    }
  },
  "cells": [
    {
      "cell_type": "markdown",
      "metadata": {
        "id": "view-in-github",
        "colab_type": "text"
      },
      "source": [
        "<a href=\"https://colab.research.google.com/github/a85235863/-Computational-Thinking-and-Programming-Design-/blob/master/%E4%BD%9C%E6%A5%AD12_26%5D.ipynb\" target=\"_parent\"><img src=\"https://colab.research.google.com/assets/colab-badge.svg\" alt=\"Open In Colab\"/></a>"
      ]
    },
    {
      "cell_type": "code",
      "metadata": {
        "id": "KBIfs7ONvQnv",
        "colab_type": "code",
        "outputId": "05b0761e-820a-4dd3-b849-6d0d1615297c",
        "colab": {
          "base_uri": "https://localhost:8080/",
          "height": 119
        }
      },
      "source": [
        "answer = \"123\"\n",
        "while True:\n",
        "    password = input(\"enter your password\")\n",
        "    if password == answer:\n",
        "       print(\"correct\")\n",
        "       break\n",
        "    else:\n",
        "       print(\"fail, try again\")"
      ],
      "execution_count": 0,
      "outputs": [
        {
          "output_type": "stream",
          "text": [
            "enter your password456\n",
            "fail, try again\n",
            "enter your password23\n",
            "fail, try again\n",
            "enter your password123\n",
            "correct\n"
          ],
          "name": "stdout"
        }
      ]
    },
    {
      "cell_type": "code",
      "metadata": {
        "id": "MV25RJWA1DTq",
        "colab_type": "code",
        "outputId": "7781e1d2-6909-4461-9508-13aefad9e98b",
        "colab": {
          "base_uri": "https://localhost:8080/",
          "height": 170
        }
      },
      "source": [
        "answer1 = \"123\"\n",
        "answer2 = \"456\"\n",
        "while True:\n",
        "    n1 = input(\"enter your password\")\n",
        "    n2 = input(\"enter your account\")\n",
        "    if n1 == answer1 and n2 == answer2:\n",
        "      print(\"account and password correct\")\n",
        "      break\n",
        "    else:\n",
        "      print(\"fail try again\")"
      ],
      "execution_count": 0,
      "outputs": [
        {
          "output_type": "stream",
          "text": [
            "enter your password45\n",
            "enter your account231\n",
            "fail try again\n",
            "enter your password456\n",
            "enter your account123\n",
            "fail try again\n",
            "enter your password123\n",
            "enter your account456\n",
            "account and password correct\n"
          ],
          "name": "stdout"
        }
      ]
    },
    {
      "cell_type": "code",
      "metadata": {
        "id": "oWB3k1Fh1zIm",
        "colab_type": "code",
        "outputId": "70904669-569a-480a-e9fc-e5267b6fb565",
        "colab": {
          "base_uri": "https://localhost:8080/",
          "height": 136
        }
      },
      "source": [
        "answer1 = \"a123456\"\n",
        "x = 3\n",
        "while True: \n",
        "    n1 = input(\"Enter your password,you have 3 chance:\")\n",
        "    if n1 == answer1:\n",
        "      print(\"correct\")\n",
        "      break\n",
        "    else:\n",
        "      x = x-1\n",
        "      print(\"fail,you have\",x,\"chance\")\n",
        "    if x == 0:\n",
        "      print(\"you fail\")\n",
        "      break"
      ],
      "execution_count": 0,
      "outputs": [
        {
          "output_type": "stream",
          "text": [
            "Enter your password,you have 3 chance:456\n",
            "fail,you have 2 chance\n",
            "Enter your password,you have 3 chance:123\n",
            "fail,you have 1 chance\n",
            "Enter your password,you have 3 chance:456\n",
            "fail,you have 0 chance\n",
            "you fail\n"
          ],
          "name": "stdout"
        }
      ]
    },
    {
      "cell_type": "code",
      "metadata": {
        "id": "HqJ2B4K926dP",
        "colab_type": "code",
        "outputId": "a34cf9b4-2f07-4fb6-92ea-ad1558b9a96c",
        "colab": {
          "base_uri": "https://localhost:8080/",
          "height": 34
        }
      },
      "source": [
        "for a in range(6):\n",
        "      print(a, end=\" \")\n",
        "print(\"\")"
      ],
      "execution_count": 0,
      "outputs": [
        {
          "output_type": "stream",
          "text": [
            "0 1 2 3 4 5 \n"
          ],
          "name": "stdout"
        }
      ]
    },
    {
      "cell_type": "code",
      "metadata": {
        "id": "Q64tX9MM4w8e",
        "colab_type": "code",
        "outputId": "cb3c7cb5-52bd-4cb4-9120-3a90261b61e3",
        "colab": {
          "base_uri": "https://localhost:8080/",
          "height": 34
        }
      },
      "source": [
        "sum = 0\n",
        "for x in range(1,11,2):\n",
        "  sum = sum + x\n",
        "print(\"1+3+5+7+9\",sum)"
      ],
      "execution_count": 0,
      "outputs": [
        {
          "output_type": "stream",
          "text": [
            "1+3+5+7+9 25\n"
          ],
          "name": "stdout"
        }
      ]
    },
    {
      "cell_type": "code",
      "metadata": {
        "id": "PypsAyLg5IMX",
        "colab_type": "code",
        "outputId": "ae418c53-f912-443d-81ff-5f4ac19392c3",
        "colab": {
          "base_uri": "https://localhost:8080/",
          "height": 131
        }
      },
      "source": [
        "x =int(input(\"Entre a number:\"))\n",
        "sum = 0 \n",
        "for x in range(x)\n",
        "  sum = sum x**2\n",
        "  print(\"sum of squares is\", sum)"
      ],
      "execution_count": 0,
      "outputs": [
        {
          "output_type": "error",
          "ename": "SyntaxError",
          "evalue": "ignored",
          "traceback": [
            "\u001b[0;36m  File \u001b[0;32m\"<ipython-input-18-7f6678bb2f26>\"\u001b[0;36m, line \u001b[0;32m3\u001b[0m\n\u001b[0;31m    for x in range(x)\u001b[0m\n\u001b[0m                     ^\u001b[0m\n\u001b[0;31mSyntaxError\u001b[0m\u001b[0;31m:\u001b[0m invalid syntax\n"
          ]
        }
      ]
    },
    {
      "cell_type": "code",
      "metadata": {
        "id": "GQDK5dSp5khw",
        "colab_type": "code",
        "colab": {}
      },
      "source": [
        ""
      ],
      "execution_count": 0,
      "outputs": []
    }
  ]
}